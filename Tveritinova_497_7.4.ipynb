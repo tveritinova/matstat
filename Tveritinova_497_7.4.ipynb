{
 "cells": [
  {
   "cell_type": "code",
   "execution_count": 1,
   "metadata": {
    "collapsed": false
   },
   "outputs": [
    {
     "name": "stdout",
     "output_type": "stream",
     "text": [
      "Populating the interactive namespace from numpy and matplotlib\n"
     ]
    }
   ],
   "source": [
    "%pylab inline\n",
    "\n",
    "import scipy.stats as sps\n",
    "import numpy as np\n",
    "import matplotlib.pyplot as plt\n",
    "import pandas as pd"
   ]
  },
  {
   "cell_type": "markdown",
   "metadata": {},
   "source": [
    "$X_i\\sim exp(\\lambda)$.\n",
    "\n",
    "Сопряженное априорное к $Exp(\\lambda)$ - $Gamma(\\alpha_{0}, \\beta_{0})$\n",
    "\n",
    "$\\Rightarrow апостериорное \\space распределение - p(\\theta \\mid X) \\sim Gamma(\\alpha_{0} + n, \\beta_{0} +  \\sum^{n}_{i = 1}X_{i})$\n",
    "\n",
    "$\\Rightarrow байесовская \\space оценка - \\hat{\\theta} = E(\\theta | X) = \\frac{\\alpha_{0} + n} {\\beta_{0} +  \\sum^{n}_{i = 1}X_{i}}$"
   ]
  },
  {
   "cell_type": "code",
   "execution_count": 2,
   "metadata": {
    "collapsed": false
   },
   "outputs": [
    {
     "name": "stdout",
     "output_type": "stream",
     "text": [
      "      t           pred\n",
      "  0.000           60.0\n",
      "  1.000           59.0\n",
      "  2.000           58.0\n",
      "  3.000           57.0\n",
      "  4.000           56.0\n",
      "  5.000           55.0\n",
      "  6.000           54.0\n",
      "  6.420          break\n",
      "  7.000  15.2857142857\n",
      "  8.000  15.0161725067\n",
      "  9.000  14.7466307278\n",
      " 10.000  14.4770889488\n",
      " 11.000  14.2075471698\n",
      " 12.000  13.9380053908\n",
      " 12.931          break\n",
      " 13.000  12.1213121815\n",
      " 13.395          break\n",
      " 14.000  15.7822160472\n",
      " 14.223          break\n",
      " 14.830          break\n",
      " 15.000  22.0562223626\n",
      " 15.759          break\n",
      " 16.000  24.3781848559\n",
      " 17.000  23.9604988364\n",
      " 18.000   23.542812817\n",
      " 19.000  23.1251267975\n",
      " 20.000  22.7074407781\n",
      " 21.000  22.2897547586\n",
      " 22.000  21.8720687392\n",
      " 23.000  21.4543827197\n",
      " 23.970          break\n",
      " 24.000  18.5338406087\n",
      " 25.000  18.2134561474\n",
      " 26.000   17.893071686\n",
      " 27.000  17.5726872247\n",
      " 27.243          break\n",
      " 27.994          break\n",
      " 28.000  20.0367662275\n",
      " 29.000  19.6918672829\n",
      " 30.000  19.3469683383\n",
      " 30.053          break\n",
      " 30.701          break\n",
      " 31.000  21.9775716854\n",
      " 32.000  21.5990347308\n",
      " 33.000  21.2204977761\n",
      " 34.000  20.8419608214\n",
      " 35.000  20.4634238668\n",
      " 35.623          break\n",
      " 36.000  20.5192365453\n",
      " 37.000   20.164268356\n",
      " 38.000  19.8093001666\n",
      " 39.000  19.4543319772\n",
      " 40.000  19.0993637878\n",
      " 41.000  18.7443955984\n",
      " 42.000   18.389427409\n",
      " 42.586          break\n",
      " 43.000  18.4604689579\n",
      " 44.000  18.1392649016\n",
      " 45.000  17.8180608452\n",
      " 45.528          break\n",
      " 46.000  18.5134112792\n",
      " 47.000  18.1910247593\n",
      " 48.000  17.8686382393\n",
      " 49.000  17.5462517194\n",
      " 50.000  17.2238651994\n",
      " 51.000  16.9014786795\n",
      " 51.304          break\n",
      " 52.000  17.4472315693\n",
      " 53.000  17.1413276231\n",
      " 54.000   16.835423677\n",
      " 54.276          break\n",
      " 55.000  17.5377378971\n",
      " 56.000  17.2301903177\n",
      " 57.000  16.9226427383\n",
      " 58.000  16.6150951588\n",
      " 59.000  16.3075475794\n",
      " 60.000           16.0\n"
     ]
    }
   ],
   "source": [
    "# извлекаем данные\n",
    "strs = open(\"/Users/evgeniatveritinova1/Downloads/file2.txt\").read().split()\n",
    "times = np.zeros(len(strs)-1)\n",
    "for i in range(len(strs) - 1):\n",
    "    times[i] = float(strs[i + 1])\n",
    "    \n",
    "s = times[1:] - times[:-1]\n",
    "s = np.insert(s, 0, times[0])\n",
    "\n",
    "est = (1. + np.arange(len(s) + 1)) / (1. + np.insert(s.cumsum(), 0, 0)) # байесовская оценка\n",
    "\n",
    "# число вышедших из строя\n",
    "def pred(t):\n",
    "    n = np.extract(times <= t, times).size\n",
    "    return  n + est[n] * (60 - t)   \n",
    "\n",
    "inf = pd.DataFrame({'t':np.sort(np.append(np.arange(61), times))})\n",
    "inf['pred'] = np.array(['break' if i in times\n",
    "                        else pred(i) for i in inf['t']])\n",
    "\n",
    "print inf.to_string(index=False)"
   ]
  }
 ],
 "metadata": {
  "kernelspec": {
   "display_name": "Python 2",
   "language": "python",
   "name": "python2"
  },
  "language_info": {
   "codemirror_mode": {
    "name": "ipython",
    "version": 2
   },
   "file_extension": ".py",
   "mimetype": "text/x-python",
   "name": "python",
   "nbconvert_exporter": "python",
   "pygments_lexer": "ipython2",
   "version": "2.7.11"
  }
 },
 "nbformat": 4,
 "nbformat_minor": 0
}
