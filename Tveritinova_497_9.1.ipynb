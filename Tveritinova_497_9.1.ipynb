{
 "cells": [
  {
   "cell_type": "code",
   "execution_count": 1,
   "metadata": {
    "collapsed": false
   },
   "outputs": [
    {
     "name": "stdout",
     "output_type": "stream",
     "text": [
      "Populating the interactive namespace from numpy and matplotlib\n"
     ]
    }
   ],
   "source": [
    "%pylab inline\n",
    "\n",
    "import pandas\n",
    "import scipy.stats as sps\n",
    "import numpy as np\n",
    "import matplotlib.pyplot as plt\n",
    "import math"
   ]
  },
  {
   "cell_type": "code",
   "execution_count": 2,
   "metadata": {
    "collapsed": false
   },
   "outputs": [],
   "source": [
    "data = open(\"/Users/evgeniatveritinova1/Downloads/forestfires.csv\").read().split()"
   ]
  },
  {
   "cell_type": "markdown",
   "metadata": {},
   "source": [
    "Посмотрим, как выглядит набор данных:"
   ]
  },
  {
   "cell_type": "code",
   "execution_count": 3,
   "metadata": {
    "collapsed": false
   },
   "outputs": [
    {
     "name": "stdout",
     "output_type": "stream",
     "text": [
      "X,Y,month,day,FFMC,DMC,DC,ISI,temp,RH,wind,rain,area\n"
     ]
    }
   ],
   "source": [
    "print data[0]"
   ]
  },
  {
   "cell_type": "markdown",
   "metadata": {},
   "source": [
    "Преобразуем данные в нужный нам вид:"
   ]
  },
  {
   "cell_type": "code",
   "execution_count": 4,
   "metadata": {
    "collapsed": false
   },
   "outputs": [
    {
     "name": "stdout",
     "output_type": "stream",
     "text": [
      "7,5,mar,fri,86.2,26.2,94.3,5.1,8.2,51,6.7,0,0\n",
      "[  7.    5.    0.    1.   86.2  26.2  94.3   5.1   8.2  51.    6.7   0.\n",
      "   0. ]\n"
     ]
    }
   ],
   "source": [
    "data = data[1:] # убираем первую строчку в видом данных\n",
    "\n",
    "# создаем массив размера (кол-во выборок) * размер выборки\n",
    "# (размер выборки - 1), потому что мы убираем поле дня\n",
    "useful_data = np.zeros(len(data) * len(data[0].split(',')))\\\n",
    "              .reshape(len(data), len(data[0].split(',')))\n",
    "\n",
    "# извлекаем данные\n",
    "for i in range(len(data)):\n",
    "    fields = data[i].split(',') # парсим по запятой, получая поля\n",
    "    \n",
    "    # первые два поля без изменения\n",
    "    for j in range(2):\n",
    "        useful_data[i][j] = float(fields[j])\n",
    "    \n",
    "    # месяц преобразовываем в индикатор летнего сезона\n",
    "    if fields[2] in ['jun', 'jul', 'aug']: # летние месяца\n",
    "        useful_data[i][2] = 1\n",
    "    else:\n",
    "        useful_data[i][2] = 0\n",
    "        \n",
    "    #добавляем столбец единиц\n",
    "    useful_data[i][3] = 1\n",
    "        \n",
    "    # все поля после дня оставляем без изменения\n",
    "    for j in range(4, len(fields)):\n",
    "        useful_data[i][j] = float(fields[j])\n",
    "\n",
    "# напечатаем, чтобы проверить, что все хорошо    \n",
    "print data[0]\n",
    "print useful_data[0]"
   ]
  },
  {
   "cell_type": "markdown",
   "metadata": {},
   "source": [
    "Все хорошо, данные извлеклись правильно :)"
   ]
  },
  {
   "cell_type": "code",
   "execution_count": 5,
   "metadata": {
    "collapsed": false
   },
   "outputs": [],
   "source": [
    "random.shuffle(useful_data) # перемешиваем данные\n",
    "\n",
    "# разделяем на две части в отношении 7 : 3\n",
    "frst_data = useful_data[:(len(useful_data) / 10 * 7)]\n",
    "scnd_data = useful_data[len(frst_data):]"
   ]
  },
  {
   "cell_type": "markdown",
   "metadata": {},
   "source": [
    "Построим регрессионную модель:"
   ]
  },
  {
   "cell_type": "code",
   "execution_count": 6,
   "metadata": {
    "collapsed": false
   },
   "outputs": [],
   "source": [
    "Z = np.matrix(frst_data.T[:-1]).T # матрица выборок первой части без area\n",
    "X = np.matrix(frst_data.T[-1]).T # столбец результатов (area) первой части\n",
    "est = (Z.T * Z).I * Z.T * X # полученная оценка для коэффициентов"
   ]
  },
  {
   "cell_type": "code",
   "execution_count": 7,
   "metadata": {
    "collapsed": false
   },
   "outputs": [
    {
     "name": "stdout",
     "output_type": "stream",
     "text": [
      "Полученная среднеквадратичная ошибка : 105.231901288\n",
      "Минимальное значение area : 0.0\n",
      "Максимальное значение area : 1090.84\n",
      "Среднее значение area : 19.72525\n"
     ]
    }
   ],
   "source": [
    "s = np.matrix(scnd_data.T[:-1].T) # матрица выборок второй части без area\n",
    "pred = np.array(s * est).reshape(s.shape[0]) # предсказание (area) результата второй части\n",
    "real_val = scnd_data.T[-1].T # столбец результатов (area) второй части\n",
    "mse = np.std(pred - real_val) # среднеквадратичная ошибка\n",
    "print 'Полученная среднеквадратичная ошибка : ' + str(mse)\n",
    "print 'Минимальное значение area : ' + str(real_val.min())\n",
    "print 'Максимальное значение area : ' + str(real_val.max())\n",
    "print 'Среднее значение area : ' + str(real_val.mean())"
   ]
  },
  {
   "cell_type": "markdown",
   "metadata": {},
   "source": [
    "Среднеквадратичная ошибка достаточно сильно отличается от среднего значения"
   ]
  },
  {
   "cell_type": "code",
   "execution_count": 8,
   "metadata": {
    "collapsed": false
   },
   "outputs": [],
   "source": [
    "def get_mse(c):\n",
    "    # обновляем данные, чтобы корректно работало после перемешивания данных(см. далее)\n",
    "    # разделяем на две части в отношении 7 : 3\n",
    "    frst_data = useful_data[:(len(useful_data) / 10 * 7)]\n",
    "    scnd_data = useful_data[len(frst_data):]\n",
    "    Z = np.matrix(frst_data.T[:-1]).T # матрица выборок первой части без area\n",
    "    X = np.matrix(frst_data.T[-1]).T # столбец результатов (area) первой части\n",
    "    s = np.matrix(scnd_data.T[:-1].T) # матрица выборок второй части без area\n",
    "    real_val = scnd_data.T[-1].T # столбец результатов (area) второй части\n",
    "    \n",
    "    changed_X = np.matrix(np.array([math.log(c + x[0]) for x in X]).reshape(X.shape)) # применяем к area пребразование\n",
    "    new_est = (Z.T * Z).I * Z.T * changed_X # считаем оценку для преобразованных данных \n",
    "    new_pred = np.array(s * new_est)\n",
    "    changed_real_val = np.array([math.log(c + x) for x in real_val]).reshape(real_val.shape)\n",
    "    # Cреднеквадратичная ошибка для преобразованных значений\n",
    "    mse1 = np.std(new_pred - changed_real_val)\n",
    "    # Cреднеквадратичная ошибка для исходных, применив к оценкам обратное преобразование\n",
    "    mse2 = np.std([e**x - c for x in new_pred] - real_val)\n",
    "    return (mse1, mse2)"
   ]
  },
  {
   "cell_type": "code",
   "execution_count": 9,
   "metadata": {
    "collapsed": false
   },
   "outputs": [
    {
     "data": {
      "image/png": "[encoded data removed]",
      "text/plain": [
       "<matplotlib.figure.Figure at 0x1078fbb10>"
      ]
     },
     "metadata": {},
     "output_type": "display_data"
    },
    {
     "data": {
      "image/png": "[encoded data removed]",
      "text/plain": [
       "<matplotlib.figure.Figure at 0x10661d590>"
      ]
     },
     "metadata": {},
     "output_type": "display_data"
    }
   ],
   "source": [
    "grid = np.arange(1, 2000, 10)\n",
    "mse = [get_mse(x)[0] for x in grid]\n",
    "plt.plot(grid, mse, color='red')\n",
    "plt.title(\"MSE for changed value\", fontsize=10)\n",
    "plt.grid(True)\n",
    "plt.show()\n",
    "mse = [get_mse(x)[1] for x in grid]\n",
    "plt.plot(grid, mse, color='blue')\n",
    "plt.title(\"MSE for changed estimate\", fontsize=10)\n",
    "plt.grid(True)\n",
    "plt.show()"
   ]
  },
  {
   "cell_type": "markdown",
   "metadata": {
    "collapsed": true
   },
   "source": [
    "Чем больше c, тем меньше ошибка для преобразованных значений, но для исходных значений с преобразованными предсказаниями ошибка увеличивается. Возьмем очень маленькое с."
   ]
  },
  {
   "cell_type": "code",
   "execution_count": 10,
   "metadata": {
    "collapsed": false
   },
   "outputs": [
    {
     "name": "stdout",
     "output_type": "stream",
     "text": [
      "Средняя ошибка: 55.1154579305\n",
      "Минимальная ошибка: 14.47776403\n",
      "Максимальная ошибка: 107.862609738\n"
     ]
    }
   ],
   "source": [
    "c = 1e-9\n",
    "test_cnt = 100\n",
    "errors = np.zeros(test_cnt)\n",
    "for i in range(test_cnt):\n",
    "    random.shuffle(useful_data)\n",
    "    errors[i] = get_mse(c)[1]\n",
    "\n",
    "print('Средняя ошибка: ' + str(errors.mean()))\n",
    "print('Минимальная ошибка: ' + str(errors.min()))\n",
    "print('Максимальная ошибка: ' + str(errors.max()))"
   ]
  }
 ],
 "metadata": {
  "kernelspec": {
   "display_name": "Python 2",
   "language": "python",
   "name": "python2"
  },
  "language_info": {
   "codemirror_mode": {
    "name": "ipython",
    "version": 2
   },
   "file_extension": ".py",
   "mimetype": "text/x-python",
   "name": "python",
   "nbconvert_exporter": "python",
   "pygments_lexer": "ipython2",
   "version": "2.7.11"
  }
 },
 "nbformat": 4,
 "nbformat_minor": 0
}
