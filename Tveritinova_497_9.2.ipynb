{
 "cells": [
  {
   "cell_type": "code",
   "execution_count": 1,
   "metadata": {
    "collapsed": false
   },
   "outputs": [
    {
     "name": "stdout",
     "output_type": "stream",
     "text": [
      "Populating the interactive namespace from numpy and matplotlib\n"
     ]
    }
   ],
   "source": [
    "%pylab inline\n",
    "\n",
    "import pandas\n",
    "import scipy.stats as sps\n",
    "import numpy as np\n",
    "import matplotlib.pyplot as plt\n",
    "import math"
   ]
  },
  {
   "cell_type": "code",
   "execution_count": 2,
   "metadata": {
    "collapsed": false
   },
   "outputs": [],
   "source": [
    "# читаем данные из файла\n",
    "X = [float(x) for x in open('/Users/evgeniatveritinova1/Downloads/file3.txt').read().split()]   \n",
    "size = len(X)"
   ]
  },
  {
   "cell_type": "markdown",
   "metadata": {},
   "source": [
    "$X_i = \\beta_1 + i\\beta_2 + \\varepsilon_0 + \\dots + \\varepsilon_i$, для $i = 0\\dots n$\n",
    "\n",
    "Рассмотрим $Y_i$:\n",
    "\n",
    "$Y_0 = X_0 = \\beta_1 + \\varepsilon_0$\n",
    "\n",
    "$Y_i = X_i - X_{i-1} = \\beta_2 + \\varepsilon_i$, для $i = 0\\dots n$\n",
    "\n",
    "Тогда для $Y$ имеем линейную модель $Z = \\begin{pmatrix} 1 & 0 \\\\ 0 & 1 \\\\ \\vdots & \\vdots \\\\ 0 & 1 \\end{pmatrix}$"
   ]
  },
  {
   "cell_type": "code",
   "execution_count": 3,
   "metadata": {
    "collapsed": false
   },
   "outputs": [],
   "source": [
    "Z = [[0,1] for i in range(size)]\n",
    "Z[0] = [1,0]\n",
    "Z = np.matrix(Z)\n",
    "Y = [X[k] - X[k-1] for k in range(size)]\n",
    "Y[0] = X[0]\n",
    "Y = np.matrix(Y).T"
   ]
  },
  {
   "cell_type": "markdown",
   "metadata": {},
   "source": [
    "$\\hat{\\beta} = {\\hat{\\beta_1} \\choose \\hat{\\beta_2}} = (Z^TZ)^{-1}Z^TY = {X_0 \\choose \\frac{X_n - X_1}{n}}$"
   ]
  },
  {
   "cell_type": "code",
   "execution_count": 4,
   "metadata": {
    "collapsed": false
   },
   "outputs": [
    {
     "name": "stdout",
     "output_type": "stream",
     "text": [
      "[[ 681.456492  ]\n",
      " [   4.65300028]]\n"
     ]
    }
   ],
   "source": [
    "beta_est = (Z.T * Z).I * Z.T * Y\n",
    "print beta_est"
   ]
  },
  {
   "cell_type": "markdown",
   "metadata": {},
   "source": [
    "$\\hat{\\sigma^2} = \\frac{1}{n-1}|Y - Z\\hat{\\beta}| = \\frac{1}{n-1}\\sum_{i=1}^{n}(X_i - X_{i-1} - \\frac{X_n - X_1}{n})^2$"
   ]
  },
  {
   "cell_type": "code",
   "execution_count": 5,
   "metadata": {
    "collapsed": false
   },
   "outputs": [
    {
     "name": "stdout",
     "output_type": "stream",
     "text": [
      "[[ 0.08815892]]\n"
     ]
    }
   ],
   "source": [
    "sigma_est = ((Y - Z * beta_est).T * (Y - Z * beta_est)) / (size - 1)\n",
    "print sigma_est"
   ]
  },
  {
   "cell_type": "markdown",
   "metadata": {},
   "source": [
    "$\\hat{\\sigma^2_t} = \\frac{\\hat{\\sigma^2}}{\\beta_2^2}$"
   ]
  },
  {
   "cell_type": "code",
   "execution_count": 6,
   "metadata": {
    "collapsed": false
   },
   "outputs": [
    {
     "name": "stdout",
     "output_type": "stream",
     "text": [
      "[[ 0.00407193]]\n"
     ]
    }
   ],
   "source": [
    "sigma_time_est = sigma_est / (beta_est[1]**2)\n",
    "print sigma_time_est"
   ]
  },
  {
   "cell_type": "markdown",
   "metadata": {},
   "source": [
    "Так как $\\hat{\\sigma^2_t} \\ll 1$ и $\\hat{\\sigma^2_t} \\ll Y_{i}$, то можно сделать вывод, что линейная модель применима в данном случае для получения достаточно точных оценок"
   ]
  }
 ],
 "metadata": {
  "kernelspec": {
   "display_name": "Python 2",
   "language": "python",
   "name": "python2"
  },
  "language_info": {
   "codemirror_mode": {
    "name": "ipython",
    "version": 2
   },
   "file_extension": ".py",
   "mimetype": "text/x-python",
   "name": "python",
   "nbconvert_exporter": "python",
   "pygments_lexer": "ipython2",
   "version": "2.7.11"
  }
 },
 "nbformat": 4,
 "nbformat_minor": 0
}
