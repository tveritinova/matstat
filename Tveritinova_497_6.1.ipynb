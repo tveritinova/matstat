{
 "cells": [
  {
   "cell_type": "code",
   "execution_count": 1,
   "metadata": {
    "collapsed": false
   },
   "outputs": [
    {
     "name": "stdout",
     "output_type": "stream",
     "text": [
      "Populating the interactive namespace from numpy and matplotlib\n"
     ]
    }
   ],
   "source": [
    "%pylab inline\n",
    "import numpy as np\n",
    "import matplotlib.pyplot as plt\n",
    "import scipy.stats as sps\n",
    "import time"
   ]
  },
  {
   "cell_type": "markdown",
   "metadata": {},
   "source": [
    "$(N_t - N_s)$ и $N_s$ - независимы\n",
    "\n",
    "$N_t - N_s \\sim Pois(\\lambda(t - s))$\n",
    "\n",
    "$E(N_t - N_s) = \\lambda(t - s)$\n",
    "\n",
    "$E(N_t|N_s) = E(N_t - N_s|N_s) + E(N_s|N_s) = E(N_t - N_s) + N_s = \\lambda(t - s) + N_s$"
   ]
  },
  {
   "cell_type": "markdown",
   "metadata": {},
   "source": [
    "Извлекаем данные из файла:"
   ]
  },
  {
   "cell_type": "code",
   "execution_count": 2,
   "metadata": {
    "collapsed": false
   },
   "outputs": [],
   "source": [
    "strs = open(\"/Users/evgeniatveritinova1/Downloads/file2.txt\").read().split()\n",
    "times = np.zeros(len(strs)-1)\n",
    "for i in range(len(strs) - 1):\n",
    "    times[i] = float(strs[i + 1])    \n",
    "l = float(strs[0])\n",
    "t = 60"
   ]
  },
  {
   "cell_type": "markdown",
   "metadata": {},
   "source": [
    "Считаем по данным значение $N_s$ каждую секунду до заданного времени"
   ]
  },
  {
   "cell_type": "code",
   "execution_count": 3,
   "metadata": {
    "collapsed": false
   },
   "outputs": [],
   "source": [
    "Ns = np.zeros(61)\n",
    "for i in range(61):\n",
    "    for t in times:\n",
    "        if t <= i:\n",
    "            Ns[i] += 1"
   ]
  },
  {
   "cell_type": "markdown",
   "metadata": {},
   "source": [
    "Выводим посчитанные по формуле, выведенной выше, $E(N_t \\mid N_s)$. То есть предсказания количества серверов, вышедших из строя к данному моменту. "
   ]
  },
  {
   "cell_type": "code",
   "execution_count": 4,
   "metadata": {
    "collapsed": false
   },
   "outputs": [
    {
     "name": "stdout",
     "output_type": "stream",
     "text": [
      "0 14.11176\n",
      "1 13.85176\n",
      "2 13.59176\n",
      "3 13.33176\n",
      "4 13.07176\n",
      "5 12.81176\n",
      "6 12.55176\n",
      "7 13.29176\n",
      "8 13.03176\n",
      "9 12.77176\n",
      "10 12.51176\n",
      "11 12.25176\n",
      "12 11.99176\n",
      "13 12.73176\n",
      "14 13.47176\n",
      "15 15.21176\n",
      "16 15.95176\n",
      "17 15.69176\n",
      "18 15.43176\n",
      "19 15.17176\n",
      "20 14.91176\n",
      "21 14.65176\n",
      "22 14.39176\n",
      "23 14.13176\n",
      "24 14.87176\n",
      "25 14.61176\n",
      "26 14.35176\n",
      "27 14.09176\n",
      "28 15.83176\n",
      "29 15.57176\n",
      "30 15.31176\n",
      "31 17.05176\n",
      "32 16.79176\n",
      "33 16.53176\n",
      "34 16.27176\n",
      "35 16.01176\n",
      "36 16.75176\n",
      "37 16.49176\n",
      "38 16.23176\n",
      "39 15.97176\n",
      "40 15.71176\n",
      "41 15.45176\n",
      "42 15.19176\n",
      "43 15.93176\n",
      "44 15.67176\n",
      "45 15.41176\n",
      "46 16.15176\n",
      "47 15.89176\n",
      "48 15.63176\n",
      "49 15.37176\n",
      "50 15.11176\n",
      "51 14.85176\n",
      "52 15.59176\n",
      "53 15.33176\n",
      "54 15.07176\n",
      "55 15.81176\n",
      "56 15.55176\n",
      "57 15.29176\n",
      "58 15.03176\n",
      "59 14.77176\n",
      "60 14.51176\n"
     ]
    }
   ],
   "source": [
    "for s in range(61):\n",
    "    print s, (l * (t - s) + Ns[s])\n",
    "    time.sleep(1)"
   ]
  }
 ],
 "metadata": {
  "kernelspec": {
   "display_name": "Python 2",
   "language": "python",
   "name": "python2"
  },
  "language_info": {
   "codemirror_mode": {
    "name": "ipython",
    "version": 2
   },
   "file_extension": ".py",
   "mimetype": "text/x-python",
   "name": "python",
   "nbconvert_exporter": "python",
   "pygments_lexer": "ipython2",
   "version": "2.7.11"
  }
 },
 "nbformat": 4,
 "nbformat_minor": 0
}
